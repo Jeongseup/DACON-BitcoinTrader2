{
 "cells": [
  {
   "cell_type": "code",
   "execution_count": 2,
   "metadata": {
    "id": "F6OpxMdifm0v"
   },
   "outputs": [],
   "source": [
    "\n",
    "import pandas as pd\n",
    "import numpy as np\n",
    "\n",
    "import matplotlib.pyplot as plt\n",
    "%matplotlib inline\n",
    "import seaborn as sns\n",
    "\n",
    "from tqdm.auto import tqdm\n",
    "\n",
    "\n",
    "from statsmodels.tsa.arima_model import ARIMA"
   ]
  },
  {
   "cell_type": "code",
   "execution_count": 3,
   "metadata": {},
   "outputs": [],
   "source": [
    "DATA_PATH = './data'"
   ]
  },
  {
   "cell_type": "code",
   "execution_count": 4,
   "metadata": {
    "id": "OjqQWauj8bJy"
   },
   "outputs": [],
   "source": [
    "train_x = pd.read_csv(DATA_PATH  + \"/train_x_df.csv\")\n",
    "train_y = pd.read_csv(DATA_PATH  + \"/train_y_df.csv\")\n",
    "test_x = pd.read_csv(DATA_PATH  + \"/test_x_df.csv\")\n"
   ]
  },
  {
   "cell_type": "code",
   "execution_count": 5,
   "metadata": {},
   "outputs": [],
   "source": [
    "train_x[\"is_x\"] = 1\n",
    "train_y[\"is_x\"] = 0"
   ]
  },
  {
   "cell_type": "code",
   "execution_count": 7,
   "metadata": {},
   "outputs": [],
   "source": [
    "\n",
    "train_x_y = [train_x, train_y]"
   ]
  },
  {
   "cell_type": "code",
   "execution_count": 10,
   "metadata": {
    "id": "Q-bftHM79U0T"
   },
   "outputs": [],
   "source": [
    "\n",
    "train_list = [x.set_index('sample_id') for x in train_x_y]\n",
    "\n",
    "train_z = pd.concat(train_list, axis=0).rename_axis('sample_id').reset_index()\n"
   ]
  },
  {
   "cell_type": "code",
   "execution_count": 11,
   "metadata": {
    "id": "0LML-LvIDxqf",
    "scrolled": true
   },
   "outputs": [
    {
     "data": {
      "text/html": [
       "<div>\n",
       "<style scoped>\n",
       "    .dataframe tbody tr th:only-of-type {\n",
       "        vertical-align: middle;\n",
       "    }\n",
       "\n",
       "    .dataframe tbody tr th {\n",
       "        vertical-align: top;\n",
       "    }\n",
       "\n",
       "    .dataframe thead th {\n",
       "        text-align: right;\n",
       "    }\n",
       "</style>\n",
       "<table border=\"1\" class=\"dataframe\">\n",
       "  <thead>\n",
       "    <tr style=\"text-align: right;\">\n",
       "      <th></th>\n",
       "      <th>sample_id</th>\n",
       "      <th>time</th>\n",
       "      <th>coin_index</th>\n",
       "      <th>open</th>\n",
       "      <th>high</th>\n",
       "      <th>low</th>\n",
       "      <th>close</th>\n",
       "      <th>volume</th>\n",
       "      <th>quote_av</th>\n",
       "      <th>trades</th>\n",
       "      <th>tb_base_av</th>\n",
       "      <th>tb_quote_av</th>\n",
       "      <th>is_x</th>\n",
       "    </tr>\n",
       "  </thead>\n",
       "  <tbody>\n",
       "    <tr>\n",
       "      <th>0</th>\n",
       "      <td>0</td>\n",
       "      <td>0</td>\n",
       "      <td>9</td>\n",
       "      <td>0.983614</td>\n",
       "      <td>0.983614</td>\n",
       "      <td>0.983128</td>\n",
       "      <td>0.983246</td>\n",
       "      <td>0.001334</td>\n",
       "      <td>10.650987</td>\n",
       "      <td>0.009855</td>\n",
       "      <td>0.000848</td>\n",
       "      <td>6.771755</td>\n",
       "      <td>1</td>\n",
       "    </tr>\n",
       "    <tr>\n",
       "      <th>1</th>\n",
       "      <td>0</td>\n",
       "      <td>1</td>\n",
       "      <td>9</td>\n",
       "      <td>0.983245</td>\n",
       "      <td>0.983612</td>\n",
       "      <td>0.982453</td>\n",
       "      <td>0.982693</td>\n",
       "      <td>0.001425</td>\n",
       "      <td>11.375689</td>\n",
       "      <td>0.016137</td>\n",
       "      <td>0.000697</td>\n",
       "      <td>5.565188</td>\n",
       "      <td>1</td>\n",
       "    </tr>\n",
       "    <tr>\n",
       "      <th>2</th>\n",
       "      <td>0</td>\n",
       "      <td>2</td>\n",
       "      <td>9</td>\n",
       "      <td>0.982694</td>\n",
       "      <td>0.983612</td>\n",
       "      <td>0.982403</td>\n",
       "      <td>0.983002</td>\n",
       "      <td>0.001542</td>\n",
       "      <td>12.301942</td>\n",
       "      <td>0.014166</td>\n",
       "      <td>0.000905</td>\n",
       "      <td>7.225459</td>\n",
       "      <td>1</td>\n",
       "    </tr>\n",
       "    <tr>\n",
       "      <th>3</th>\n",
       "      <td>0</td>\n",
       "      <td>3</td>\n",
       "      <td>9</td>\n",
       "      <td>0.983009</td>\n",
       "      <td>0.984848</td>\n",
       "      <td>0.983009</td>\n",
       "      <td>0.984486</td>\n",
       "      <td>0.002520</td>\n",
       "      <td>20.134695</td>\n",
       "      <td>0.021557</td>\n",
       "      <td>0.001171</td>\n",
       "      <td>9.353000</td>\n",
       "      <td>1</td>\n",
       "    </tr>\n",
       "    <tr>\n",
       "      <th>4</th>\n",
       "      <td>0</td>\n",
       "      <td>4</td>\n",
       "      <td>9</td>\n",
       "      <td>0.984233</td>\n",
       "      <td>0.984606</td>\n",
       "      <td>0.983612</td>\n",
       "      <td>0.984164</td>\n",
       "      <td>0.002818</td>\n",
       "      <td>22.515448</td>\n",
       "      <td>0.021434</td>\n",
       "      <td>0.001799</td>\n",
       "      <td>14.372534</td>\n",
       "      <td>1</td>\n",
       "    </tr>\n",
       "    <tr>\n",
       "      <th>...</th>\n",
       "      <td>...</td>\n",
       "      <td>...</td>\n",
       "      <td>...</td>\n",
       "      <td>...</td>\n",
       "      <td>...</td>\n",
       "      <td>...</td>\n",
       "      <td>...</td>\n",
       "      <td>...</td>\n",
       "      <td>...</td>\n",
       "      <td>...</td>\n",
       "      <td>...</td>\n",
       "      <td>...</td>\n",
       "      <td>...</td>\n",
       "    </tr>\n",
       "    <tr>\n",
       "      <th>11491495</th>\n",
       "      <td>7660</td>\n",
       "      <td>115</td>\n",
       "      <td>8</td>\n",
       "      <td>1.002662</td>\n",
       "      <td>1.003382</td>\n",
       "      <td>1.002606</td>\n",
       "      <td>1.002717</td>\n",
       "      <td>0.957148</td>\n",
       "      <td>173.131668</td>\n",
       "      <td>0.510148</td>\n",
       "      <td>0.476201</td>\n",
       "      <td>86.143784</td>\n",
       "      <td>0</td>\n",
       "    </tr>\n",
       "    <tr>\n",
       "      <th>11491496</th>\n",
       "      <td>7660</td>\n",
       "      <td>116</td>\n",
       "      <td>8</td>\n",
       "      <td>1.002551</td>\n",
       "      <td>1.002606</td>\n",
       "      <td>1.001608</td>\n",
       "      <td>1.001830</td>\n",
       "      <td>1.537946</td>\n",
       "      <td>277.939087</td>\n",
       "      <td>0.465787</td>\n",
       "      <td>1.061331</td>\n",
       "      <td>191.801056</td>\n",
       "      <td>0</td>\n",
       "    </tr>\n",
       "    <tr>\n",
       "      <th>11491497</th>\n",
       "      <td>7660</td>\n",
       "      <td>117</td>\n",
       "      <td>8</td>\n",
       "      <td>1.001830</td>\n",
       "      <td>1.002384</td>\n",
       "      <td>1.001497</td>\n",
       "      <td>1.001608</td>\n",
       "      <td>1.203197</td>\n",
       "      <td>217.364487</td>\n",
       "      <td>0.637684</td>\n",
       "      <td>0.971337</td>\n",
       "      <td>175.472198</td>\n",
       "      <td>0</td>\n",
       "    </tr>\n",
       "    <tr>\n",
       "      <th>11491498</th>\n",
       "      <td>7660</td>\n",
       "      <td>118</td>\n",
       "      <td>8</td>\n",
       "      <td>1.001608</td>\n",
       "      <td>1.001941</td>\n",
       "      <td>1.001109</td>\n",
       "      <td>1.001386</td>\n",
       "      <td>1.252859</td>\n",
       "      <td>226.264069</td>\n",
       "      <td>1.003660</td>\n",
       "      <td>0.449899</td>\n",
       "      <td>81.251137</td>\n",
       "      <td>0</td>\n",
       "    </tr>\n",
       "    <tr>\n",
       "      <th>11491499</th>\n",
       "      <td>7660</td>\n",
       "      <td>119</td>\n",
       "      <td>8</td>\n",
       "      <td>1.001331</td>\n",
       "      <td>1.001719</td>\n",
       "      <td>1.001054</td>\n",
       "      <td>1.001497</td>\n",
       "      <td>1.297642</td>\n",
       "      <td>234.339737</td>\n",
       "      <td>0.748586</td>\n",
       "      <td>0.735177</td>\n",
       "      <td>132.758179</td>\n",
       "      <td>0</td>\n",
       "    </tr>\n",
       "  </tbody>\n",
       "</table>\n",
       "<p>11491500 rows × 13 columns</p>\n",
       "</div>"
      ],
      "text/plain": [
       "          sample_id  time  coin_index      open      high       low     close  \\\n",
       "0                 0     0           9  0.983614  0.983614  0.983128  0.983246   \n",
       "1                 0     1           9  0.983245  0.983612  0.982453  0.982693   \n",
       "2                 0     2           9  0.982694  0.983612  0.982403  0.983002   \n",
       "3                 0     3           9  0.983009  0.984848  0.983009  0.984486   \n",
       "4                 0     4           9  0.984233  0.984606  0.983612  0.984164   \n",
       "...             ...   ...         ...       ...       ...       ...       ...   \n",
       "11491495       7660   115           8  1.002662  1.003382  1.002606  1.002717   \n",
       "11491496       7660   116           8  1.002551  1.002606  1.001608  1.001830   \n",
       "11491497       7660   117           8  1.001830  1.002384  1.001497  1.001608   \n",
       "11491498       7660   118           8  1.001608  1.001941  1.001109  1.001386   \n",
       "11491499       7660   119           8  1.001331  1.001719  1.001054  1.001497   \n",
       "\n",
       "            volume    quote_av    trades  tb_base_av  tb_quote_av  is_x  \n",
       "0         0.001334   10.650987  0.009855    0.000848     6.771755     1  \n",
       "1         0.001425   11.375689  0.016137    0.000697     5.565188     1  \n",
       "2         0.001542   12.301942  0.014166    0.000905     7.225459     1  \n",
       "3         0.002520   20.134695  0.021557    0.001171     9.353000     1  \n",
       "4         0.002818   22.515448  0.021434    0.001799    14.372534     1  \n",
       "...            ...         ...       ...         ...          ...   ...  \n",
       "11491495  0.957148  173.131668  0.510148    0.476201    86.143784     0  \n",
       "11491496  1.537946  277.939087  0.465787    1.061331   191.801056     0  \n",
       "11491497  1.203197  217.364487  0.637684    0.971337   175.472198     0  \n",
       "11491498  1.252859  226.264069  1.003660    0.449899    81.251137     0  \n",
       "11491499  1.297642  234.339737  0.748586    0.735177   132.758179     0  \n",
       "\n",
       "[11491500 rows x 13 columns]"
      ]
     },
     "execution_count": 11,
     "metadata": {},
     "output_type": "execute_result"
    }
   ],
   "source": [
    "train_z"
   ]
  },
  {
   "cell_type": "code",
   "execution_count": 12,
   "metadata": {
    "id": "AxGpKmAw8azU"
   },
   "outputs": [],
   "source": [
    "# vwap과, open에서 vwap을 뺀 값인 diff를 계산합니다.\n",
    "def make_vwap_and_diff(df):\n",
    "\n",
    "    # 1) VAWP 계산\n",
    "\n",
    "    # 일반적인 VWAP 공식에서 volume을 그대로 사용하지만, 여러번의 시도를 통해 tb_base_av 와 volume을 더했을 때 가장 좋은 volume이 나온다고 판단하영 사용하였습니다.\n",
    "    df[\"volume_tb_base_av\"] = df[\"tb_base_av\"] + df[\"volume\"]\n",
    "\n",
    "    # open하나만을 사용하기 보다는 open(시가), high(고가), low(저가) 3개의 평균을 price로 사용하였습니다.\n",
    "    df['volume_price'] = ((df['open'] + df['high'] + df['low']) / 3) * df['volume_tb_base_av']\n",
    "\n",
    "    # price와 volume의 곱의 합을 구해줍니다.\n",
    "    df['volume_price_sum'] = df.groupby(['sample_id'])['volume_price'].apply(lambda x: x.cumsum())\n",
    "\n",
    "    # volume의 합을 구해줍니다.\n",
    "    df['volume_sum'] = df.groupby(['sample_id'])['volume_tb_base_av'].apply(lambda x: x.cumsum())\n",
    "\n",
    "    # 2 변수의 나눗셈을 통해 vwap을 계산해줍니다.\n",
    "    df['vwap'] = df['volume_price_sum'] / df['volume_sum']\n",
    "\n",
    "\n",
    "    # 2) diff 계산\n",
    "    # 매도수익이 open을 통해 이루어진다고 알려져있기 때문에 open에서 vwap을 뺀 값을 diff로 사용했습니다.\n",
    "    df[\"diff\"] = df[\"open\"] - df[\"vwap\"]\n",
    "\n",
    "\n",
    "    return df\n",
    "    "
   ]
  },
  {
   "cell_type": "code",
   "execution_count": 13,
   "metadata": {
    "id": "xMEBaXFJgWyK"
   },
   "outputs": [],
   "source": [
    "# 데이터 프레임에서 sample_id 에 따른 open을 반환하는 함수입니다.\n",
    "def get_open(df,sample_id):\n",
    "    \n",
    "    return df[df[\"sample_id\"] == sample_id]['open'].values\n",
    "    "
   ]
  },
  {
   "cell_type": "code",
   "execution_count": 14,
   "metadata": {
    "id": "xd6ja-VS8tCz"
   },
   "outputs": [],
   "source": [
    "# 데이터 프레임에서 sample_id 에 따른 VWAP을 반환하는 함수입니다.\n",
    "def get_vwap(df,sample_id):\n",
    "    \n",
    "    return df[df[\"sample_id\"] == sample_id]['vwap'].values\n",
    "    "
   ]
  },
  {
   "cell_type": "code",
   "execution_count": 15,
   "metadata": {
    "id": "31nwm13M8s6q"
   },
   "outputs": [],
   "source": [
    "# 데이터 프레임에서 sample_id 에 따른 diff 반환하는 함수입니다.\n",
    "def get_diff(df,sample_id):\n",
    "    \n",
    "    return df[df[\"sample_id\"] == sample_id]['diff'].values\n",
    "    "
   ]
  },
  {
   "cell_type": "code",
   "execution_count": 16,
   "metadata": {
    "id": "FL3ryNj8AfgZ"
   },
   "outputs": [],
   "source": [
    "# 데이터 프레임에서 sample_id 에 따른 rsi 반환하는 함수입니다.\n",
    "def get_rsi(df,sample_id):\n",
    "    \n",
    "    return df[df[\"sample_id\"] == sample_id]['rsi'].values\n",
    "    "
   ]
  },
  {
   "cell_type": "code",
   "execution_count": 17,
   "metadata": {
    "id": "XSci7Oh1-Tgw"
   },
   "outputs": [],
   "source": [
    "# 데이터 프레임에서 sample_id 에 따른 col_name 값을 반환하는 함수입니다.\n",
    "def get_series(df,sample_id, col_name):\n",
    "    \n",
    "    return df[df[\"sample_id\"] == sample_id][col_name].values\n",
    "    "
   ]
  },
  {
   "cell_type": "markdown",
   "metadata": {
    "id": "F7GO2QeBsyz5"
   },
   "source": [
    "### 2) RSI\n",
    "상대강도지수(relative strength index) 는 가격의 상승압력과 하락압력 간의 상대적인 강도를 나타냅니다.\n",
    "\n",
    "<br>\n",
    "\n",
    "트레이딩에서 사용되며, RSI 값이 30보다 작으면 초과매도로 판단하고, RSI 값이, 70 보다 크면 초과매수 상태로 판단합니다.\n",
    "\n",
    "<br>\n",
    "\n",
    "![](https://raw.githubusercontent.com/skyepodium/bit-traider-image/master/image/rsi_formula.png)\n",
    "\n",
    "<br>\n",
    "\n",
    "RSI는 최고점과, 최하점을 찾기 쉽다는 장점이 있습니다. 다만, 일명 박스권으로 천정과 바닥이 제대로 형성되지 않은 시장(RSI가 50근처 유지)에서는 유용하지 못합니다.\n",
    "\n",
    "코인 데이터의 RSI 그래프를 그려보면 RSI 0 ~ 100 사이를 급변동 합니다.\n",
    "\n",
    "<br>\n",
    "저는 조금 더 안정적으로 투자하기 위해 65 초과인 상태를 초과매수국면으로 판단하고, 해당 시점 이후 50분동안은 투자하지 않도록 정해주었습니다.\n",
    "\n",
    "\n"
   ]
  },
  {
   "cell_type": "code",
   "execution_count": 13,
   "metadata": {
    "id": "oafKUnwMx0Va"
   },
   "outputs": [],
   "source": [
    "# RSI를 만들어줍니다.\n",
    "# 상승분, 하락분의 평균은 일반적으로 14일을 기준으로 생성합니다.\n",
    "def make_rsi(df, period=14):\n",
    "\n",
    "    # 전일 대비 상승분을 계산해줍니다. - 상승분이 0보다 크면 상승분을 넣고, 0보다 작거나 같으면 0을 넣어줍니다.\n",
    "    df[\"U\"] = np.where(df.groupby([\"sample_id\"])[\"open\"].diff(1) > 0, df.groupby([\"sample_id\"])[\"open\"].diff(1), 0)\n",
    "\n",
    "    # 전일 대비 하락분을 계산해줍니다. - 하락분이 0보다 작으면 하락분 * -1을 넣고, 0보다 크거나 같으면 0을 넣어줍니다.\n",
    "    df[\"D\"] = np.where(df.groupby([\"sample_id\"])[\"open\"].diff(1) < 0, df.groupby([\"sample_id\"])[\"open\"].diff(1) *(-1), 0)\n",
    "\n",
    "\n",
    "    # 전일 대비 상승분의 평균을 계산해줍니다.\n",
    "    ud_df = pd.DataFrame()\n",
    "    ud_df[\"sample_id\"] = df[\"sample_id\"]\n",
    "    ud_df[\"U\"] = df[\"U\"]\n",
    "    ud_df[\"D\"] = df[\"D\"]\n",
    "\n",
    "    # 상승분의 14일 평균을 구해줍니다.\n",
    "    df[\"AU\"] = ud_df.groupby([\"sample_id\"])[\"U\"].rolling( window=period, min_periods=period ).mean().reset_index()[\"U\"]\n",
    "    # 하락분의 14일 평균을 구해줍니다.\n",
    "    df[\"AD\"] = ud_df.groupby([\"sample_id\"])[\"D\"].rolling( window=period, min_periods=period ).mean().reset_index()[\"D\"]\n",
    "\n",
    "\n",
    "    # AU / (AU + AD) 의 백분율을 RSI 로 계산해줍니다.\n",
    "    RSI = df[\"AU\"] / (df[\"AU\"] + df[\"AD\"]) * 100\n",
    "    \n",
    "    df[\"rsi\"] = RSI\n",
    "    \n",
    "    return df\n",
    "    "
   ]
  },
  {
   "cell_type": "code",
   "execution_count": 13,
   "metadata": {
    "id": "ubeZfdHFAsE9"
   },
   "outputs": [],
   "source": []
  },
  {
   "cell_type": "markdown",
   "metadata": {
    "id": "kitdXjkv-hcu"
   },
   "source": [
    "# 6. 전처리 🪄"
   ]
  },
  {
   "cell_type": "markdown",
   "metadata": {
    "id": "erCTUtmgE-cA"
   },
   "source": [
    "전처리 단계에서는 5번에서 작성한 함수를 train, test 데이터에 적용하여 피쳐 생성을 진행합니다."
   ]
  },
  {
   "cell_type": "code",
   "execution_count": 14,
   "metadata": {
    "id": "fgNPNg_OgW0Y"
   },
   "outputs": [],
   "source": [
    "# 1. train, test의 sample_id 목록을 저장합니다.\n",
    "TRAIN_SAMPLE_ID_LIST = train_x[\"sample_id\"].unique().tolist()\n",
    "TEST_SAMPLE_ID_LIST = test_x[\"sample_id\"].unique().tolist()\n"
   ]
  },
  {
   "cell_type": "code",
   "execution_count": 14,
   "metadata": {
    "id": "0Lc06DflgW2i"
   },
   "outputs": [],
   "source": []
  },
  {
   "cell_type": "code",
   "execution_count": 15,
   "metadata": {
    "id": "R5HoTz1d-l3U"
   },
   "outputs": [],
   "source": [
    "# 2. VWAP, diff 를 만들어줍니다.\n",
    "test_x = make_vwap_and_diff(test_x)\n",
    "train_z = make_vwap_and_diff(train_z)\n"
   ]
  },
  {
   "cell_type": "code",
   "execution_count": 15,
   "metadata": {
    "id": "mgFwKdsqAkq6"
   },
   "outputs": [],
   "source": []
  },
  {
   "cell_type": "code",
   "execution_count": 16,
   "metadata": {
    "id": "SyXDCq7lOh_x"
   },
   "outputs": [],
   "source": [
    "# 3. rsi 를 만들어줍니다.\n",
    "test_x = make_rsi(test_x, 14)\n",
    "train_z = make_rsi(train_z, 14)\n"
   ]
  },
  {
   "cell_type": "code",
   "execution_count": 16,
   "metadata": {
    "id": "-JlldEJIOgol"
   },
   "outputs": [],
   "source": []
  },
  {
   "cell_type": "code",
   "execution_count": 17,
   "metadata": {
    "id": "ritTVE871Z1-"
   },
   "outputs": [],
   "source": [
    "# 4. train x와 y를 분리합니다.\n",
    "train_x = train_z[train_z[\"is_x\"] == 1]\n",
    "train_y = train_z[train_z[\"is_x\"] == 0]\n",
    "\n",
    "split_drop_cols = [\"is_x\"]\n",
    "\n",
    "train_x = train_x.drop(columns=split_drop_cols, axis=1)\n",
    "train_y = train_y.drop(columns=split_drop_cols, axis=1)\n"
   ]
  },
  {
   "cell_type": "code",
   "execution_count": 17,
   "metadata": {
    "id": "mOdEVOsn-Dte"
   },
   "outputs": [],
   "source": []
  },
  {
   "cell_type": "code",
   "execution_count": 17,
   "metadata": {
    "id": "g8-huEPhAuis"
   },
   "outputs": [],
   "source": []
  },
  {
   "cell_type": "markdown",
   "metadata": {
    "id": "jmYP7LsGBGAm"
   },
   "source": [
    "# 7. 모델 학습 🤑"
   ]
  },
  {
   "cell_type": "markdown",
   "metadata": {
    "id": "XqR3MCIBSux4"
   },
   "source": [
    "### 1) 모델\n",
    "모델은 diff (open - vwap)을 ARIMA를 통해 학습하여 생성했습니다. \n",
    "\n",
    "<br>\n",
    "\n",
    "### 2) 제약조건\n",
    "vwap, rsi의 마지막 값을 제약조건의 기준으로 사용했습니다.\n",
    "vwap이 1보다 크면 open보다 vwap이 크다는 의미로 하향세에 접어들었다고 판단 투자하지 않았습니다.\n",
    "(x의 open 의 마지막 값은 1입니다.)\n",
    "\n",
    "<br>\n",
    "\n",
    "rsi의 값이 65보다 크면 초과 매수 상태라고 판단하여 투자하지 않았습니다. 기본적으로 70 초과로 판단하는데 임의로 바꿀수 있는 값으로 조금 낮춰서 65로 시도했을때가 제일 좋아서 사용했습니다.\n",
    "\n",
    "<br>\n",
    "\n",
    "### 3) ARIMA와 p d q\n",
    "\n",
    "개인적으로 ARIMA 모델의 order(p, d, q)에 투자를 많이 했었습니다.\n",
    "\n",
    "ARIMA 모델의 AIC (아카이케 정보 기준) 가 가장 나오는 order를 brute force로 찾아보았지만, \n",
    "\n",
    "2시간 30분 ~ 3시간이 걸림에도 불구하고, 점수가 오히려 낮아져서, 여러번의 시도로 4, 0, 1 이 제일 좋다고 판단했습니다.\n",
    "\n",
    "pac, acf 분석을 통해 AR 2 모델이라고 판단했습니다. 분석에는 다음 영상을 참고했습니다. (https://www.youtube.com/watch?v=-vSzKfqcTDg&t=360s)\n"
   ]
  },
  {
   "cell_type": "code",
   "execution_count": 18,
   "metadata": {
    "colab": {
     "base_uri": "https://localhost:8080/",
     "height": 332,
     "referenced_widgets": [
      "1a10397c83884f3a93327a0999d3971b",
      "bd62633546a04b6db8294912db23786d",
      "1828a933b5054cbfa02e92f0e5db4a40",
      "64c0dfca1e3848ed8524d086007babac",
      "ae52095dd83b414f94653025388b51aa",
      "f96d5e2b03d242b4a3041fde4f661cfb",
      "919d5e88ac0c43d7bf7a7e79e3995efc",
      "70b84e0a5f50429bb6911360b1dbcd8f"
     ]
    },
    "id": "aw_-lZ9jgXQ4",
    "outputId": "118cd7eb-87c9-4ffe-b1a9-a62888c556a0"
   },
   "outputs": [
    {
     "data": {
      "application/vnd.jupyter.widget-view+json": {
       "model_id": "1a10397c83884f3a93327a0999d3971b",
       "version_major": 2,
       "version_minor": 0
      },
      "text/plain": [
       "HBox(children=(FloatProgress(value=0.0, max=535.0), HTML(value='')))"
      ]
     },
     "metadata": {
      "tags": []
     },
     "output_type": "display_data"
    },
    {
     "name": "stderr",
     "output_type": "stream",
     "text": [
      "/usr/local/lib/python3.7/dist-packages/statsmodels/base/model.py:568: ConvergenceWarning: Maximum Likelihood optimization failed to converge. Check mle_retvals\n",
      "  ConvergenceWarning)\n",
      "/usr/local/lib/python3.7/dist-packages/statsmodels/base/model.py:548: HessianInversionWarning: Inverting hessian failed, no bse or cov_params available\n",
      "  'available', HessianInversionWarning)\n",
      "/usr/local/lib/python3.7/dist-packages/statsmodels/base/model.py:568: ConvergenceWarning: Maximum Likelihood optimization failed to converge. Check mle_retvals\n",
      "  ConvergenceWarning)\n",
      "/usr/local/lib/python3.7/dist-packages/statsmodels/base/model.py:568: ConvergenceWarning: Maximum Likelihood optimization failed to converge. Check mle_retvals\n",
      "  ConvergenceWarning)\n",
      "/usr/local/lib/python3.7/dist-packages/statsmodels/base/model.py:548: HessianInversionWarning: Inverting hessian failed, no bse or cov_params available\n",
      "  'available', HessianInversionWarning)\n",
      "/usr/local/lib/python3.7/dist-packages/statsmodels/base/model.py:568: ConvergenceWarning: Maximum Likelihood optimization failed to converge. Check mle_retvals\n",
      "  ConvergenceWarning)\n",
      "/usr/local/lib/python3.7/dist-packages/statsmodels/base/model.py:568: ConvergenceWarning: Maximum Likelihood optimization failed to converge. Check mle_retvals\n",
      "  ConvergenceWarning)\n",
      "/usr/local/lib/python3.7/dist-packages/statsmodels/base/model.py:568: ConvergenceWarning: Maximum Likelihood optimization failed to converge. Check mle_retvals\n",
      "  ConvergenceWarning)\n"
     ]
    },
    {
     "name": "stdout",
     "output_type": "stream",
     "text": [
      "\n"
     ]
    }
   ],
   "source": [
    "result = []\n",
    "\n",
    "for sample_id in tqdm(TEST_SAMPLE_ID_LIST):\n",
    "\n",
    "    # 1. 데이터 로드\n",
    "    # 1) diff - 학습에 사용\n",
    "    diff_x = get_diff(test_x, sample_id)\n",
    "\n",
    "    # 2) vwap - 보조 지표로 사용\n",
    "    vwap_series = get_vwap(test_x, sample_id)\n",
    "\n",
    "    # 3) rsi - 보조 지표로 사용\n",
    "    rsi_series = get_rsi(test_x, sample_id)\n",
    "\n",
    "\n",
    "\n",
    "    # 2. ARIMA\n",
    "    # 1) 모델 정의\n",
    "    ARIMA_MODEL = {}\n",
    "    ARIMA_MODEL_FIT = {}\n",
    "\n",
    "    # 2) AR 모델 적용\n",
    "    try:\n",
    "      ARIMA_MODEL = ARIMA(diff_x, order = (4,0,1))\n",
    "      ARIMA_MODEL_FIT = ARIMA_MODEL.fit(trend = 'nc', full_output = True, disp = True)\n",
    "\n",
    "    # 3) 수렴하지 않을 경우 p d q 를 1, 1, 0으로 사용\n",
    "    except:\n",
    "      ARIMA_MODEL = ARIMA(diff_x, order = (1,1,0))\n",
    "      ARIMA_MODEL_FIT = ARIMA_MODEL.fit(trend = 'nc', full_output = True, disp = True)\n",
    "\n",
    "    # 4) ARIMA 예측\n",
    "    ARIMA_FORECAST  = ARIMA_MODEL_FIT.predict(1,120, typ='levels')\n",
    "\n",
    "\n",
    "\n",
    "    # 3. 데이처 처리\n",
    "    # 1) 최대 부분인 인덱스를 찾는데 해당 시점에 매도를 진행합니다.\n",
    "    sell_time = np.argmax(ARIMA_FORECAST)\n",
    "\n",
    "    # 2) 최대값을 찾습니다.\n",
    "    max_val = np.max(ARIMA_FORECAST)\n",
    "    \n",
    "    # 3) vwap의 마지막 값을 가져옵니다.\n",
    "    vwap_last_val = vwap_series[1379]\n",
    "\n",
    "    rsi_last_val = rsi_series[1379]\n",
    "\n",
    "\n",
    "\n",
    "    # 4. 투자 전략\n",
    "    buy_quantity = 0\n",
    "\n",
    "    # 1) 최대값이 0 보다 크면 가격이 vwap 보다 크다는 의미로, 투자합니다.\n",
    "    if  max_val > 0:\n",
    "        buy_quantity = 1\n",
    "\n",
    "\n",
    "    # 2) 만약 vwap 마지막 값이, 1보다 크면 가격이 1보다 작다는 의미로 하향세이기 때문에 투자하지 않습니다.\n",
    "    if vwap_last_val > 1 and sell_time < 50:\n",
    "        buy_quantity = 0\n",
    "\n",
    "    # 3) 만약 rsi의 값이 65 보다 크면, 초과매수 상태로 판단하여 투자하지 않습니다.\n",
    "    if rsi_last_val > 65 and sell_time < 50:\n",
    "        buy_quantity = 0\n",
    "\n",
    "\n",
    "\n",
    "    # 5. 결과\n",
    "    result_list = [\n",
    "                   sample_id,\n",
    "                   buy_quantity,\n",
    "                   sell_time\n",
    "                  ]\n",
    "\n",
    "    result.append(result_list)\n",
    "    "
   ]
  },
  {
   "cell_type": "code",
   "execution_count": 18,
   "metadata": {
    "id": "TrdOWA3RFhSc"
   },
   "outputs": [],
   "source": []
  },
  {
   "cell_type": "code",
   "execution_count": 18,
   "metadata": {
    "id": "3HEv-tL5huUe"
   },
   "outputs": [],
   "source": []
  },
  {
   "cell_type": "markdown",
   "metadata": {
    "id": "SDl1UZPeC9F8"
   },
   "source": [
    "# 8. 제출 🎉"
   ]
  },
  {
   "cell_type": "code",
   "execution_count": 19,
   "metadata": {
    "id": "Fh-lmXxthuSL"
   },
   "outputs": [],
   "source": [
    "# 1. 학습 결과를 데이터 프레임으로 만듭니다.\n",
    "\n",
    "submit_columns = [\n",
    "                  \"sample_id\", \n",
    "                  \"buy_quantity\", \n",
    "                  \"sell_time\"\n",
    "                  ]\n",
    "\n",
    "\n",
    "submit = pd.DataFrame(data=result, columns=submit_columns)\n"
   ]
  },
  {
   "cell_type": "code",
   "execution_count": 19,
   "metadata": {
    "id": "pUquU-7oC8FJ"
   },
   "outputs": [],
   "source": []
  },
  {
   "cell_type": "code",
   "execution_count": 20,
   "metadata": {
    "colab": {
     "base_uri": "https://localhost:8080/",
     "height": 347
    },
    "id": "ws7koaEZCuBt",
    "outputId": "5f9c499b-c724-4b4c-a2e2-e0c01c3e595e"
   },
   "outputs": [
    {
     "data": {
      "text/html": [
       "<div>\n",
       "<style scoped>\n",
       "    .dataframe tbody tr th:only-of-type {\n",
       "        vertical-align: middle;\n",
       "    }\n",
       "\n",
       "    .dataframe tbody tr th {\n",
       "        vertical-align: top;\n",
       "    }\n",
       "\n",
       "    .dataframe thead th {\n",
       "        text-align: right;\n",
       "    }\n",
       "</style>\n",
       "<table border=\"1\" class=\"dataframe\">\n",
       "  <thead>\n",
       "    <tr style=\"text-align: right;\">\n",
       "      <th></th>\n",
       "      <th>sample_id</th>\n",
       "      <th>buy_quantity</th>\n",
       "      <th>sell_time</th>\n",
       "    </tr>\n",
       "  </thead>\n",
       "  <tbody>\n",
       "    <tr>\n",
       "      <th>0</th>\n",
       "      <td>7661</td>\n",
       "      <td>0</td>\n",
       "      <td>47</td>\n",
       "    </tr>\n",
       "    <tr>\n",
       "      <th>1</th>\n",
       "      <td>7662</td>\n",
       "      <td>1</td>\n",
       "      <td>62</td>\n",
       "    </tr>\n",
       "    <tr>\n",
       "      <th>2</th>\n",
       "      <td>7663</td>\n",
       "      <td>0</td>\n",
       "      <td>11</td>\n",
       "    </tr>\n",
       "    <tr>\n",
       "      <th>3</th>\n",
       "      <td>7664</td>\n",
       "      <td>0</td>\n",
       "      <td>48</td>\n",
       "    </tr>\n",
       "    <tr>\n",
       "      <th>4</th>\n",
       "      <td>7665</td>\n",
       "      <td>1</td>\n",
       "      <td>46</td>\n",
       "    </tr>\n",
       "    <tr>\n",
       "      <th>5</th>\n",
       "      <td>7666</td>\n",
       "      <td>1</td>\n",
       "      <td>70</td>\n",
       "    </tr>\n",
       "    <tr>\n",
       "      <th>6</th>\n",
       "      <td>7667</td>\n",
       "      <td>1</td>\n",
       "      <td>119</td>\n",
       "    </tr>\n",
       "    <tr>\n",
       "      <th>7</th>\n",
       "      <td>7668</td>\n",
       "      <td>1</td>\n",
       "      <td>82</td>\n",
       "    </tr>\n",
       "    <tr>\n",
       "      <th>8</th>\n",
       "      <td>7669</td>\n",
       "      <td>1</td>\n",
       "      <td>109</td>\n",
       "    </tr>\n",
       "    <tr>\n",
       "      <th>9</th>\n",
       "      <td>7670</td>\n",
       "      <td>1</td>\n",
       "      <td>66</td>\n",
       "    </tr>\n",
       "  </tbody>\n",
       "</table>\n",
       "</div>"
      ],
      "text/plain": [
       "   sample_id  buy_quantity  sell_time\n",
       "0       7661             0         47\n",
       "1       7662             1         62\n",
       "2       7663             0         11\n",
       "3       7664             0         48\n",
       "4       7665             1         46\n",
       "5       7666             1         70\n",
       "6       7667             1        119\n",
       "7       7668             1         82\n",
       "8       7669             1        109\n",
       "9       7670             1         66"
      ]
     },
     "execution_count": 20,
     "metadata": {
      "tags": []
     },
     "output_type": "execute_result"
    }
   ],
   "source": [
    "# 2. 결과 데이터 프레임 확인\n",
    "\n",
    "submit.head(10)\n"
   ]
  },
  {
   "cell_type": "code",
   "execution_count": 21,
   "metadata": {
    "colab": {
     "base_uri": "https://localhost:8080/"
    },
    "id": "II8kw3x8Ct5U",
    "outputId": "b35226ab-5663-46e8-f1f6-098a6d9b5ce2"
   },
   "outputs": [
    {
     "data": {
      "text/plain": [
       "420"
      ]
     },
     "execution_count": 21,
     "metadata": {
      "tags": []
     },
     "output_type": "execute_result"
    }
   ],
   "source": [
    "# 3. 투자 개수 확인\n",
    "\n",
    "submit[submit[\"buy_quantity\"] == 1].shape[0]\n"
   ]
  },
  {
   "cell_type": "code",
   "execution_count": 21,
   "metadata": {
    "id": "jxY8EpMa94w1"
   },
   "outputs": [],
   "source": []
  },
  {
   "cell_type": "code",
   "execution_count": 22,
   "metadata": {
    "colab": {
     "base_uri": "https://localhost:8080/"
    },
    "id": "eekMyayO94t2",
    "outputId": "e223b785-aa1e-4f37-91e2-4d40daa65038"
   },
   "outputs": [
    {
     "data": {
      "text/plain": [
       "84"
      ]
     },
     "execution_count": 22,
     "metadata": {
      "tags": []
     },
     "output_type": "execute_result"
    }
   ],
   "source": [
    "# 4. sell_time 50미만에서 구매하는 개수 확인\n",
    "cond1 = (submit[\"buy_quantity\"] == 1)\n",
    "cond2 = (submit[\"sell_time\"] < 50)\n",
    "\n",
    "submit[cond1 & cond2].shape[0]\n"
   ]
  },
  {
   "cell_type": "code",
   "execution_count": 22,
   "metadata": {
    "id": "nhmD8EguDIK2"
   },
   "outputs": [],
   "source": []
  },
  {
   "cell_type": "code",
   "execution_count": 23,
   "metadata": {
    "id": "Mp7wT98yDINv"
   },
   "outputs": [],
   "source": [
    "# 5. 제출"
   ]
  },
  {
   "cell_type": "code",
   "execution_count": 23,
   "metadata": {
    "id": "X7o-0iQkvd_r"
   },
   "outputs": [],
   "source": []
  },
  {
   "cell_type": "code",
   "execution_count": 24,
   "metadata": {
    "id": "rw78jgTgDe0Z"
   },
   "outputs": [],
   "source": [
    "# 파일의 이름을 지정해줍니다.\n",
    "FILE_NAME = \"/0603_ARIMA_DIFF_VWAP_RSI_65_UNDER_50_SUBMIT.csv\"\n"
   ]
  },
  {
   "cell_type": "code",
   "execution_count": 24,
   "metadata": {
    "id": "W6gAk-mQDqpU"
   },
   "outputs": [],
   "source": []
  },
  {
   "cell_type": "code",
   "execution_count": 25,
   "metadata": {
    "id": "h52SZA91huP9"
   },
   "outputs": [],
   "source": [
    "# 제출경로에 파일을 생성해줍니다.\n",
    "RESULT_PATH = SUBMIT_PATH + FILE_NAME\n",
    "\n",
    "submit.to_csv(RESULT_PATH, index=False)\n"
   ]
  },
  {
   "cell_type": "code",
   "execution_count": 25,
   "metadata": {
    "id": "9Au3--86huLZ"
   },
   "outputs": [],
   "source": []
  },
  {
   "cell_type": "code",
   "execution_count": 25,
   "metadata": {
    "id": "JSjgb0-79OH4"
   },
   "outputs": [],
   "source": []
  },
  {
   "cell_type": "markdown",
   "metadata": {
    "id": "7fnfibaBL3Fg"
   },
   "source": [
    "# 9. 안정적 모델인지 어떻게 확인? 🤔\n",
    "시즌 1을 경험하고, 최대한 안정적인 모델을 생성하기 위해 노력했습니다. \n",
    "\n",
    "다만, 내가 안정적이라고 생각해도, 객관적인 지표가 없다보니 얼마나 균형잡혀있는지 확인하기가 어려웠습니다.\n",
    "\n",
    "이를 위해 public score를 다음과 같이 활용했습니다.\n",
    "\n",
    "<br>\n",
    "\n",
    "예를 들어, \n",
    "- open에 vwap을 섞어 투자개수가 줄었음에도 점수가 올라가는 현상\n",
    "- vwap, rsi등 보조지표를 통해 sell_time 10, 20.. 50 미만은 투자하지 않기로 결정했음에도 점점 점수가 올라가는 현상\n",
    "- rsi 초과매수로 상태를 70 초과가 아닌, 65 초과로, 더 안정적으로 결정해도 점수가 상승하는 현상\n",
    "<br>\n",
    "\n",
    "이렇게, 제약사항을 통해 보수적으로 투자했음에도 불구하고, 점수가 올라가는 경우에 집중하여, 해당 피쳐가 안정적으로 작용함을 판단했습니다.\n"
   ]
  },
  {
   "cell_type": "code",
   "execution_count": 25,
   "metadata": {
    "id": "O4AZQBEI9OKN"
   },
   "outputs": [],
   "source": []
  },
  {
   "cell_type": "code",
   "execution_count": 25,
   "metadata": {
    "id": "j0I9g7a-NwrB"
   },
   "outputs": [],
   "source": []
  },
  {
   "cell_type": "markdown",
   "metadata": {
    "id": "W7ki-HLpNxG_"
   },
   "source": [
    "# 10. 여러 아이디어 🥴\n",
    "65번이라는 조금 많은 제출을 통해 여러 시도를 진행했습니다. 저의 개인적인 결과는 좋지 않았습니다만, 혹시나 이후 대회에서 다른 분들에게 조금이라도 도움이 될 수 있을까 해서 남기게 되었습니다.\n",
    "\n",
    "<br>\n",
    "\n",
    "### 1) RANDOM BOX 분류 모델\n",
    "시계열 대회이지만, classification으로 생각해보았습니다.\n",
    "\n",
    "결국에 제가 선택하는것은 120개중 1개이기 때문에 120개의 상자 중 1개를 선택했을때 그 값이 1보다 클 확률을 제가 얻을 수 있는 기대값이라고 생각했습니다. \n",
    "\n",
    "개인적으로 가장 창의적이라고 생각했지만, 잘 안되었습니다. 더 지니어스의 콩픈패스에 영감을 받았습니다.\n",
    "\n",
    "\n",
    "<br>\n",
    "\n",
    "### 2) 혼합 데이터\n",
    "open에 vwap을 섞은것에 더하여, RSI, 이동평균선등을 모두 섞어 보았습니다. 생각보다 점수가 정말 좋았지만, vwap 한개를 섞은것보다는 아쉽다고 생각하여 사용하지는 않았습니다.\n",
    "\n",
    "<br>\n",
    "\n"
   ]
  },
  {
   "cell_type": "code",
   "execution_count": 25,
   "metadata": {
    "id": "2wL5dWUpN4S2"
   },
   "outputs": [],
   "source": []
  },
  {
   "cell_type": "code",
   "execution_count": 25,
   "metadata": {
    "id": "3TTZd4EaOTUU"
   },
   "outputs": [],
   "source": []
  },
  {
   "cell_type": "markdown",
   "metadata": {
    "id": "qPYQVpGuOUL9"
   },
   "source": [
    "# 11. 다른 모델 사용여부 😁\n",
    "ARIMA 이외에도 prophet, neural prophet, LSTM등 다양한 모델을 사용해보았습니다. \n",
    "\n",
    "다만, 더 좋은 결과를 주지 않았다고 판단했습니다.\n",
    "\n",
    "또한, 위 모델들의 결과를 bagging하는 방법을 사용해보았지만, ARIMA 단 하나만을 사용했을때보다 예측 성능이 낮아진다고 판단하여 사용하지 않게 되었습니다.\n",
    "\n"
   ]
  },
  {
   "cell_type": "code",
   "execution_count": 25,
   "metadata": {
    "id": "ilefCjXXO1Or"
   },
   "outputs": [],
   "source": []
  },
  {
   "cell_type": "code",
   "execution_count": 25,
   "metadata": {
    "id": "KdG6JmHrPnnS"
   },
   "outputs": [],
   "source": []
  }
 ],
 "metadata": {
  "colab": {
   "collapsed_sections": [],
   "name": "0603_ARIMA_DIFF_VWAP_RSI_65_UNDER_50_SUBMIT.ipynb",
   "provenance": []
  },
  "kernelspec": {
   "display_name": "Python 3",
   "language": "python",
   "name": "python3"
  },
  "language_info": {
   "codemirror_mode": {
    "name": "ipython",
    "version": 3
   },
   "file_extension": ".py",
   "mimetype": "text/x-python",
   "name": "python",
   "nbconvert_exporter": "python",
   "pygments_lexer": "ipython3",
   "version": "3.7.10"
  },
  "widgets": {
   "application/vnd.jupyter.widget-state+json": {
    "1828a933b5054cbfa02e92f0e5db4a40": {
     "model_module": "@jupyter-widgets/controls",
     "model_name": "FloatProgressModel",
     "state": {
      "_dom_classes": [],
      "_model_module": "@jupyter-widgets/controls",
      "_model_module_version": "1.5.0",
      "_model_name": "FloatProgressModel",
      "_view_count": null,
      "_view_module": "@jupyter-widgets/controls",
      "_view_module_version": "1.5.0",
      "_view_name": "ProgressView",
      "bar_style": "success",
      "description": "100%",
      "description_tooltip": null,
      "layout": "IPY_MODEL_f96d5e2b03d242b4a3041fde4f661cfb",
      "max": 535,
      "min": 0,
      "orientation": "horizontal",
      "style": "IPY_MODEL_ae52095dd83b414f94653025388b51aa",
      "value": 535
     }
    },
    "1a10397c83884f3a93327a0999d3971b": {
     "model_module": "@jupyter-widgets/controls",
     "model_name": "HBoxModel",
     "state": {
      "_dom_classes": [],
      "_model_module": "@jupyter-widgets/controls",
      "_model_module_version": "1.5.0",
      "_model_name": "HBoxModel",
      "_view_count": null,
      "_view_module": "@jupyter-widgets/controls",
      "_view_module_version": "1.5.0",
      "_view_name": "HBoxView",
      "box_style": "",
      "children": [
       "IPY_MODEL_1828a933b5054cbfa02e92f0e5db4a40",
       "IPY_MODEL_64c0dfca1e3848ed8524d086007babac"
      ],
      "layout": "IPY_MODEL_bd62633546a04b6db8294912db23786d"
     }
    },
    "64c0dfca1e3848ed8524d086007babac": {
     "model_module": "@jupyter-widgets/controls",
     "model_name": "HTMLModel",
     "state": {
      "_dom_classes": [],
      "_model_module": "@jupyter-widgets/controls",
      "_model_module_version": "1.5.0",
      "_model_name": "HTMLModel",
      "_view_count": null,
      "_view_module": "@jupyter-widgets/controls",
      "_view_module_version": "1.5.0",
      "_view_name": "HTMLView",
      "description": "",
      "description_tooltip": null,
      "layout": "IPY_MODEL_70b84e0a5f50429bb6911360b1dbcd8f",
      "placeholder": "​",
      "style": "IPY_MODEL_919d5e88ac0c43d7bf7a7e79e3995efc",
      "value": " 535/535 [05:11&lt;00:00,  1.72it/s]"
     }
    },
    "70b84e0a5f50429bb6911360b1dbcd8f": {
     "model_module": "@jupyter-widgets/base",
     "model_name": "LayoutModel",
     "state": {
      "_model_module": "@jupyter-widgets/base",
      "_model_module_version": "1.2.0",
      "_model_name": "LayoutModel",
      "_view_count": null,
      "_view_module": "@jupyter-widgets/base",
      "_view_module_version": "1.2.0",
      "_view_name": "LayoutView",
      "align_content": null,
      "align_items": null,
      "align_self": null,
      "border": null,
      "bottom": null,
      "display": null,
      "flex": null,
      "flex_flow": null,
      "grid_area": null,
      "grid_auto_columns": null,
      "grid_auto_flow": null,
      "grid_auto_rows": null,
      "grid_column": null,
      "grid_gap": null,
      "grid_row": null,
      "grid_template_areas": null,
      "grid_template_columns": null,
      "grid_template_rows": null,
      "height": null,
      "justify_content": null,
      "justify_items": null,
      "left": null,
      "margin": null,
      "max_height": null,
      "max_width": null,
      "min_height": null,
      "min_width": null,
      "object_fit": null,
      "object_position": null,
      "order": null,
      "overflow": null,
      "overflow_x": null,
      "overflow_y": null,
      "padding": null,
      "right": null,
      "top": null,
      "visibility": null,
      "width": null
     }
    },
    "919d5e88ac0c43d7bf7a7e79e3995efc": {
     "model_module": "@jupyter-widgets/controls",
     "model_name": "DescriptionStyleModel",
     "state": {
      "_model_module": "@jupyter-widgets/controls",
      "_model_module_version": "1.5.0",
      "_model_name": "DescriptionStyleModel",
      "_view_count": null,
      "_view_module": "@jupyter-widgets/base",
      "_view_module_version": "1.2.0",
      "_view_name": "StyleView",
      "description_width": ""
     }
    },
    "ae52095dd83b414f94653025388b51aa": {
     "model_module": "@jupyter-widgets/controls",
     "model_name": "ProgressStyleModel",
     "state": {
      "_model_module": "@jupyter-widgets/controls",
      "_model_module_version": "1.5.0",
      "_model_name": "ProgressStyleModel",
      "_view_count": null,
      "_view_module": "@jupyter-widgets/base",
      "_view_module_version": "1.2.0",
      "_view_name": "StyleView",
      "bar_color": null,
      "description_width": "initial"
     }
    },
    "bd62633546a04b6db8294912db23786d": {
     "model_module": "@jupyter-widgets/base",
     "model_name": "LayoutModel",
     "state": {
      "_model_module": "@jupyter-widgets/base",
      "_model_module_version": "1.2.0",
      "_model_name": "LayoutModel",
      "_view_count": null,
      "_view_module": "@jupyter-widgets/base",
      "_view_module_version": "1.2.0",
      "_view_name": "LayoutView",
      "align_content": null,
      "align_items": null,
      "align_self": null,
      "border": null,
      "bottom": null,
      "display": null,
      "flex": null,
      "flex_flow": null,
      "grid_area": null,
      "grid_auto_columns": null,
      "grid_auto_flow": null,
      "grid_auto_rows": null,
      "grid_column": null,
      "grid_gap": null,
      "grid_row": null,
      "grid_template_areas": null,
      "grid_template_columns": null,
      "grid_template_rows": null,
      "height": null,
      "justify_content": null,
      "justify_items": null,
      "left": null,
      "margin": null,
      "max_height": null,
      "max_width": null,
      "min_height": null,
      "min_width": null,
      "object_fit": null,
      "object_position": null,
      "order": null,
      "overflow": null,
      "overflow_x": null,
      "overflow_y": null,
      "padding": null,
      "right": null,
      "top": null,
      "visibility": null,
      "width": null
     }
    },
    "f96d5e2b03d242b4a3041fde4f661cfb": {
     "model_module": "@jupyter-widgets/base",
     "model_name": "LayoutModel",
     "state": {
      "_model_module": "@jupyter-widgets/base",
      "_model_module_version": "1.2.0",
      "_model_name": "LayoutModel",
      "_view_count": null,
      "_view_module": "@jupyter-widgets/base",
      "_view_module_version": "1.2.0",
      "_view_name": "LayoutView",
      "align_content": null,
      "align_items": null,
      "align_self": null,
      "border": null,
      "bottom": null,
      "display": null,
      "flex": null,
      "flex_flow": null,
      "grid_area": null,
      "grid_auto_columns": null,
      "grid_auto_flow": null,
      "grid_auto_rows": null,
      "grid_column": null,
      "grid_gap": null,
      "grid_row": null,
      "grid_template_areas": null,
      "grid_template_columns": null,
      "grid_template_rows": null,
      "height": null,
      "justify_content": null,
      "justify_items": null,
      "left": null,
      "margin": null,
      "max_height": null,
      "max_width": null,
      "min_height": null,
      "min_width": null,
      "object_fit": null,
      "object_position": null,
      "order": null,
      "overflow": null,
      "overflow_x": null,
      "overflow_y": null,
      "padding": null,
      "right": null,
      "top": null,
      "visibility": null,
      "width": null
     }
    }
   }
  }
 },
 "nbformat": 4,
 "nbformat_minor": 1
}
