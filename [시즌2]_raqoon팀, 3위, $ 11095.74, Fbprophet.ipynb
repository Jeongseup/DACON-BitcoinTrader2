{
 "cells": [
  {
   "cell_type": "code",
   "execution_count": 2,
   "metadata": {
    "id": "H6fWKrOuLIOG"
   },
   "outputs": [],
   "source": [
    "import numpy as np\n",
    "import pandas as pd\n",
    "\n",
    "import matplotlib.pyplot as plt\n",
    "\n",
    "import datetime\n",
    "import random\n",
    "from dateutil import parser\n",
    "from tqdm import tqdm\n",
    "\n",
    "from fbprophet import Prophet\n",
    "from sklearn.model_selection import ParameterGrid\n",
    "from sklearn.metrics import mean_squared_error, mean_absolute_error"
   ]
  },
  {
   "cell_type": "code",
   "execution_count": 3,
   "metadata": {
    "id": "cfof83IoZ0n5"
   },
   "outputs": [],
   "source": [
    "start_time = '2021-01-31 00:00:00'\n",
    "start_dt = datetime.datetime.strptime(start_time, '%Y-%m-%d %H:%M:%S')"
   ]
  },
  {
   "cell_type": "code",
   "execution_count": 10,
   "metadata": {
    "id": "CLXjGia1aFh7"
   },
   "outputs": [],
   "source": [
    "data_path = './data'\n",
    "train_x_df = pd.read_csv(data_path  + \"/train_x_df.csv\")\n",
    "train_y_df = pd.read_csv(data_path  + \"/train_y_df.csv\")\n",
    "# test_x_df = pd.read_csv(data_path  + \"/test_x_df.csv\")"
   ]
  },
  {
   "cell_type": "code",
   "execution_count": 11,
   "metadata": {
    "id": "37jEogbvaOyq"
   },
   "outputs": [],
   "source": [
    "def df2d_to_array3d(df_2d):\n",
    "    # 입력 받은 2차원 데이터 프레임을 3차원 numpy array로 변경하는 함수\n",
    "    feature_size = df_2d.iloc[:,2:].shape[1]\n",
    "    time_size = len(df_2d.time.value_counts())\n",
    "    sample_size = len(df_2d.sample_id.value_counts())\n",
    "    sample_index = df_2d.sample_id.value_counts().index\n",
    "    array_3d = df_2d.iloc[:,2:].values.reshape([sample_size, time_size, feature_size])\n",
    "    return array_3d"
   ]
  },
  {
   "cell_type": "code",
   "execution_count": 12,
   "metadata": {
    "id": "UvobhrX5aSIx"
   },
   "outputs": [],
   "source": [
    "train_x_array = df2d_to_array3d(train_x_df)\n",
    "train_y_array = df2d_to_array3d(train_y_df)\n",
    "# test_x_array = df2d_to_array3d(test_x_df)"
   ]
  },
  {
   "cell_type": "code",
   "execution_count": 13,
   "metadata": {
    "colab": {
     "base_uri": "https://localhost:8080/"
    },
    "executionInfo": {
     "elapsed": 4,
     "status": "ok",
     "timestamp": 1622608639140,
     "user": {
      "displayName": "‍차지수(학부학생/사회과학대학 언론홍보영상학)",
      "photoUrl": "",
      "userId": "01051544767581313229"
     },
     "user_tz": -540
    },
    "id": "tOnjteZ-aUHo",
    "outputId": "14f7011a-be6a-4397-c732-48f26e06e936"
   },
   "outputs": [
    {
     "name": "stdout",
     "output_type": "stream",
     "text": [
      "\n",
      "train_x_array (7661, 1380, 10)\n",
      "train_y_array (7661, 120, 10)\n",
      "\n"
     ]
    }
   ],
   "source": [
    "print(f'''\n",
    "train_x_array {train_x_array.shape}\n",
    "train_y_array {train_y_array.shape}\n",
    "''')"
   ]
  },
  {
   "cell_type": "markdown",
   "metadata": {
    "id": "YKdBpt9AREti"
   },
   "source": [
    "# 3. EDA"
   ]
  },
  {
   "cell_type": "code",
   "execution_count": 14,
   "metadata": {
    "id": "xOBNJu3_RGy-"
   },
   "outputs": [],
   "source": [
    "def plot_series(x_series, y_series):\n",
    "    #입력 series와 출력 series를 연속적으로 연결하여 시각적으로 보여주는 코드 입니다.\n",
    "    plt.plot(x_series, label = 'input_series')\n",
    "    plt.plot(np.arange(len(x_series), len(x_series)+len(y_series)),\n",
    "             y_series, label = 'output_series')\n",
    "    plt.axhline(1, c = 'red')\n",
    "    plt.legend()"
   ]
  },
  {
   "cell_type": "code",
   "execution_count": 15,
   "metadata": {
    "colab": {
     "base_uri": "https://localhost:8080/",
     "height": 265
    },
    "executionInfo": {
     "elapsed": 580,
     "status": "ok",
     "timestamp": 1622629827663,
     "user": {
      "displayName": "‍차지수(학부학생/사회과학대학 언론홍보영상학)",
      "photoUrl": "",
      "userId": "01051544767581313229"
     },
     "user_tz": -540
    },
    "id": "2XKn3LDyRJAq",
    "outputId": "e60ea1ab-c12a-407d-fb8c-254020511ed4"
   },
   "outputs": [
    {
     "data": {
      "image/png": "[encoded data removed]",
      "text/plain": [
       "<Figure size 432x288 with 1 Axes>"
      ]
     },
     "metadata": {
      "needs_background": "light"
     },
     "output_type": "display_data"
    }
   ],
   "source": [
    "idx = 42\n",
    "plot_series(train_x_array[idx,:,1], train_y_array[idx,:,1])\n",
    "plt.show()"
   ]
  },
  {
   "cell_type": "markdown",
   "metadata": {
    "id": "hmlyuedecbOs"
   },
   "source": [
    "# 4. Parameter Optimization"
   ]
  },
  {
   "cell_type": "markdown",
   "metadata": {
    "id": "-xkBl0L7gNt4"
   },
   "source": [
    "fbprophet 모델에 MAPE를 기준으로 grid searching을 적용했습니다. 학습이 상당히 오래 걸립니다."
   ]
  },
  {
   "cell_type": "code",
   "execution_count": null,
   "metadata": {
    "colab": {
     "base_uri": "https://localhost:8080/"
    },
    "executionInfo": {
     "elapsed": 269,
     "status": "ok",
     "timestamp": 1622630811409,
     "user": {
      "displayName": "‍차지수(학부학생/사회과학대학 언론홍보영상학)",
      "photoUrl": "",
      "userId": "01051544767581313229"
     },
     "user_tz": -540
    },
    "id": "xQCQHIPiRNrf",
    "outputId": "b09e62d9-0ead-467b-9478-4440ad017baf"
   },
   "outputs": [
    {
     "name": "stdout",
     "output_type": "stream",
     "text": [
      "Total Possible Models 54\n"
     ]
    }
   ],
   "source": [
    "params_grid = {'changepoint_prior_scale':[0.1,0.01,0.001],\n",
    "               'n_changepoints' : [50,100,150],\n",
    "               'fourier_order' : [5,10],\n",
    "               'period':[0.1,0.3,0.5]\n",
    "               }\n",
    "grid = ParameterGrid(params_grid)\n",
    "cnt = 0\n",
    "for p in grid:\n",
    "    cnt = cnt+1\n",
    "\n",
    "print('Total Possible Models',cnt)"
   ]
  },
  {
   "cell_type": "code",
   "execution_count": null,
   "metadata": {
    "id": "bYaRfPfLT3SJ"
   },
   "outputs": [],
   "source": [
    "def mean_absolute_percentage_error(y_true, y_pred): \n",
    "    y_true, y_pred = np.array(y_true), np.array(y_pred)\n",
    "    return np.mean(np.abs((y_true - y_pred) / y_true)) * 100"
   ]
  },
  {
   "cell_type": "code",
   "execution_count": null,
   "metadata": {
    "id": "zGpycFI6Sl24"
   },
   "outputs": [],
   "source": [
    "model_parameters = pd.DataFrame(columns = ['idx',\n",
    "                                           'MAPE',\n",
    "                                           'changepoint_prior_scale',\n",
    "                                           'n_changepoints',\n",
    "                                           'fourier_order',\n",
    "                                           'period'\n",
    "                                           ])\n",
    "\n",
    "random.seed(42)\n",
    "samples = random.sample(range(7661),10)\n",
    "for idx in tqdm(samples, position=1):\n",
    "    x_series = train_x_array[idx,:,1]\n",
    "    y_series = train_y_array[idx,:,1]\n",
    "    x_df = pd.DataFrame()\n",
    "    x_df['ds'] = [start_dt + datetime.timedelta(minutes = time_min) for time_min in np.arange(1, x_series.shape[0]+1).tolist()]\n",
    "    x_df['y'] = x_series.tolist()\n",
    "    for p in tqdm(grid, position=0):\n",
    "        prophet = Prophet(seasonality_mode='multiplicative', \n",
    "                          yearly_seasonality=False,\n",
    "                          weekly_seasonality=False,\n",
    "                          daily_seasonality=False,\n",
    "                          changepoint_prior_scale=p['changepoint_prior_scale'],\n",
    "                          n_changepoints=p['n_changepoints'],\n",
    "                          )\n",
    "        prophet.add_seasonality(name='seasonality_1',period=p['period'],fourier_order=p['fourier_order'])\n",
    "        prophet.fit(x_df)\n",
    "\n",
    "        # 120분 테스트 데이터를 예측합니다.\n",
    "        future_data = prophet.make_future_dataframe(periods=120, freq='min')\n",
    "        forecast_data = prophet.predict(future_data)\n",
    "\n",
    "        pred_y = forecast_data.yhat.values[-120:]\n",
    "\n",
    "        MAPE = mean_absolute_percentage_error(y_series,pred_y)\n",
    "        model_parameters = model_parameters.append({'idx':idx,\n",
    "                                                    'MAPE':MAPE,\n",
    "                                                    'changepoint_prior_scale':p['changepoint_prior_scale'],\n",
    "                                                    'n_changepoints':p['n_changepoints'],\n",
    "                                                    'fourier_order':p['fourier_order'],\n",
    "                                                    'period':p['period']\n",
    "                                                    },ignore_index=True)"
   ]
  },
  {
   "cell_type": "markdown",
   "metadata": {
    "id": "UQzI_k2Xgiml"
   },
   "source": [
    "위의 셀을 실행하여 MAPE가 최소가 되는 값을 찾았습니다. 추가적으로 2개의 seasonality를 더해서 모델 성능을 높였습니다."
   ]
  },
  {
   "cell_type": "code",
   "execution_count": null,
   "metadata": {
    "id": "N7Yf-gqdclj0"
   },
   "outputs": [],
   "source": [
    "idx = 42\n",
    "x_series = train_x_array[idx,:,1]\n",
    "  \n",
    "x_df = pd.DataFrame()\n",
    "x_df['ds'] = [start_dt + datetime.timedelta(minutes = time_min) for time_min in np.arange(1, x_series.shape[0]+1).tolist()]\n",
    "x_df['y'] = x_series.tolist()\n",
    "\n",
    "prophet = Prophet(seasonality_mode='multiplicative', \n",
    "          yearly_seasonality=False,\n",
    "          weekly_seasonality=False,\n",
    "          daily_seasonality=False,\n",
    "          changepoint_prior_scale=0.1,\n",
    "          n_changepoints=50\n",
    "          )\n",
    "prophet.add_seasonality(name='seasonality_1',period=0.1,fourier_order = 5)\n",
    "prophet.add_seasonality(name='seasonality_2', period=0.3,fourier_order = 5)\n",
    "prophet.add_seasonality(name='seasonality_3', period=0.01, fourier_order = 5)\n",
    "prophet.fit(x_df)\n",
    "\n",
    "future_data = prophet.make_future_dataframe(periods=120, freq='min')\n",
    "forecast_data = prophet.predict(future_data)\n",
    "\n",
    "pred_y = forecast_data.yhat.values[-120:]\n",
    "pred_y_lower = forecast_data.yhat_lower.values[-120:]\n",
    "pred_y_upper = forecast_data.yhat_upper.values[-120:]"
   ]
  },
  {
   "cell_type": "code",
   "execution_count": 123,
   "metadata": {
    "colab": {
     "base_uri": "https://localhost:8080/",
     "height": 282
    },
    "executionInfo": {
     "elapsed": 740,
     "status": "ok",
     "timestamp": 1622633196583,
     "user": {
      "displayName": "‍차지수(학부학생/사회과학대학 언론홍보영상학)",
      "photoUrl": "",
      "userId": "01051544767581313229"
     },
     "user_tz": -540
    },
    "id": "-Mq7F7pec818",
    "outputId": "540d1ace-2f13-44ea-e3ca-d8e4387b33a0"
   },
   "outputs": [
    {
     "data": {
      "text/plain": [
       "<matplotlib.lines.Line2D at 0x7f992a9ed3d0>"
      ]
     },
     "execution_count": 123,
     "metadata": {
      "tags": []
     },
     "output_type": "execute_result"
    },
    {
     "data": {
      "image/png": "[encoded data removed]",
      "text/plain": [
       "<Figure size 432x288 with 1 Axes>"
      ]
     },
     "metadata": {
      "needs_background": "light",
      "tags": []
     },
     "output_type": "display_data"
    }
   ],
   "source": [
    "plt.plot(np.hstack([train_x_array[idx,:,1], train_y_array[idx,:,1]]), label='true')\n",
    "plt.plot(np.hstack([train_x_array[idx,:,1], pred_y]), label='prediction')\n",
    "plt.legend()\n",
    "plt.axvline(1380, c='red')"
   ]
  },
  {
   "cell_type": "markdown",
   "metadata": {
    "id": "pN3L-UC0OqKv"
   },
   "source": [
    "# Training"
   ]
  },
  {
   "cell_type": "code",
   "execution_count": null,
   "metadata": {
    "colab": {
     "base_uri": "https://localhost:8080/"
    },
    "executionInfo": {
     "elapsed": 6925931,
     "status": "ok",
     "timestamp": 1622626234921,
     "user": {
      "displayName": "‍차지수(학부학생/사회과학대학 언론홍보영상학)",
      "photoUrl": "",
      "userId": "01051544767581313229"
     },
     "user_tz": -540
    },
    "id": "vPh7VVNKaUzr",
    "outputId": "9211913c-b633-46af-9372-73f133c39a5a"
   },
   "outputs": [
    {
     "name": "stderr",
     "output_type": "stream",
     "text": [
      "100%|██████████| 535/535 [1:55:25<00:00, 12.95s/it]\n"
     ]
    }
   ],
   "source": [
    "test_pred_array = np.zeros([test_x_array.shape[0],\n",
    "                           120])\n",
    "for idx in tqdm(range(test_x_array.shape[0]), position=0):\n",
    "    \n",
    "    x_series = test_x_array[idx,:,1]\n",
    "  \n",
    "    x_df = pd.DataFrame()\n",
    "    x_df['ds'] = [start_dt + datetime.timedelta(minutes = time_min) for time_min in np.arange(1, x_series.shape[0]+1).tolist()]\n",
    "    x_df['y'] = x_series.tolist()\n",
    "\n",
    "    prophet = Prophet(seasonality_mode='multiplicative', \n",
    "              yearly_seasonality=False,\n",
    "              weekly_seasonality=False,\n",
    "              daily_seasonality=False,\n",
    "              changepoint_prior_scale=0.1,\n",
    "              n_changepoints=50\n",
    "              )\n",
    "    prophet.add_seasonality(name='seasonality_1',period=0.1,fourier_order = 5)\n",
    "    prophet.add_seasonality(name='seasonality_2', period=0.3,fourier_order = 5)\n",
    "    prophet.add_seasonality(name='seasonality_3', period=0.01, fourier_order = 5)\n",
    "    prophet.fit(x_df)\n",
    "\n",
    "    # 120분 테스트 데이터를 예측합니다.\n",
    "    future_data = prophet.make_future_dataframe(periods=120, freq='min')\n",
    "    forecast_data = prophet.predict(future_data)\n",
    "\n",
    "    pred_y = forecast_data.yhat.values[-120:]\n",
    "\n",
    "    test_pred_array[idx,:] = pred_y"
   ]
  },
  {
   "cell_type": "markdown",
   "metadata": {
    "id": "-y7uC9Csg1D-"
   },
   "source": [
    "베이스라인 코드에 있었던 100%의 매수 방식을 그대로 유지했습니다. threshold는 상위 3% 정도를 매수하도록 조정해 주었습니다."
   ]
  },
  {
   "cell_type": "code",
   "execution_count": null,
   "metadata": {
    "id": "bw0lOqdZabgP"
   },
   "outputs": [],
   "source": [
    "def array_to_submission(x_array, pred_array):\n",
    "    # 입력 x_arrry와 출력 pred_arry를 통해서 \n",
    "    # buy_quantitiy와 sell_time을 결정\n",
    "    submission = pd.DataFrame(np.zeros([pred_array.shape[0],2], np.int64),\n",
    "                columns = ['buy_quantity', 'sell_time'])\n",
    "    submission = submission.reset_index()\n",
    "    submission.loc[:, 'buy_quantity'] = 0.1\n",
    "    \n",
    "    buy_price = []\n",
    "    for idx, sell_time in enumerate(np.argmax(pred_array, axis = 1)):\n",
    "        buy_price.append(pred_array[idx, sell_time])\n",
    "    buy_price = np.array(buy_price)\n",
    "    \n",
    "    submission.loc[:, 'buy_quantity'] = (buy_price > 1.07) * 1\n",
    "    submission['sell_time'] = np.argmax(pred_array, axis = 1)\n",
    "    submission.columns = ['sample_id','buy_quantity', 'sell_time']\n",
    "    submission['sample_id'] = submission['sample_id'].apply(lambda x: x+7661)\n",
    "    return submission"
   ]
  },
  {
   "cell_type": "markdown",
   "metadata": {
    "id": "a7O4R9fAQq8W"
   },
   "source": [
    "# Submit"
   ]
  },
  {
   "cell_type": "code",
   "execution_count": null,
   "metadata": {
    "id": "ScGLbhXorJ4T"
   },
   "outputs": [],
   "source": [
    "submission = array_to_submission(test_x_array, test_pred_array)"
   ]
  },
  {
   "cell_type": "code",
   "execution_count": null,
   "metadata": {
    "colab": {
     "base_uri": "https://localhost:8080/"
    },
    "executionInfo": {
     "elapsed": 233,
     "status": "ok",
     "timestamp": 1622629676321,
     "user": {
      "displayName": "‍차지수(학부학생/사회과학대학 언론홍보영상학)",
      "photoUrl": "",
      "userId": "01051544767581313229"
     },
     "user_tz": -540
    },
    "id": "9yolWAPIQ6Y0",
    "outputId": "d51767b1-291b-49d3-94b8-b3eaba60d5f2"
   },
   "outputs": [
    {
     "data": {
      "text/plain": [
       "0    518\n",
       "1     17\n",
       "Name: buy_quantity, dtype: int64"
      ]
     },
     "execution_count": 63,
     "metadata": {
      "tags": []
     },
     "output_type": "execute_result"
    }
   ],
   "source": [
    "submission['buy_quantity'].value_counts()"
   ]
  },
  {
   "cell_type": "code",
   "execution_count": 125,
   "metadata": {
    "executionInfo": {
     "elapsed": 355,
     "status": "ok",
     "timestamp": 1622633295225,
     "user": {
      "displayName": "‍차지수(학부학생/사회과학대학 언론홍보영상학)",
      "photoUrl": "",
      "userId": "01051544767581313229"
     },
     "user_tz": -540
    },
    "id": "FxUAo8OzepEI"
   },
   "outputs": [],
   "source": [
    "submission.to_csv('/content/gdrive/My Drive/data/bit_trader_season2.csv', index=False)"
   ]
  }
 ],
 "metadata": {
  "colab": {
   "authorship_tag": "ABX9TyOoLExJM0twTWitVg6RFqcU",
   "collapsed_sections": [],
   "name": "dacon_bit_trader_season2_final.ipynb",
   "provenance": []
  },
  "kernelspec": {
   "display_name": "Python 3",
   "language": "python",
   "name": "python3"
  },
  "language_info": {
   "codemirror_mode": {
    "name": "ipython",
    "version": 3
   },
   "file_extension": ".py",
   "mimetype": "text/x-python",
   "name": "python",
   "nbconvert_exporter": "python",
   "pygments_lexer": "ipython3",
   "version": "3.7.10"
  }
 },
 "nbformat": 4,
 "nbformat_minor": 1
}
