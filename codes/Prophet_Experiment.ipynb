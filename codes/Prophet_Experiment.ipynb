{
 "cells": [
  {
   "cell_type": "markdown",
   "metadata": {
    "id": "O96S8VwXZvoZ"
   },
   "source": [
    "### 데이콘 비트코인 가격 예측 - Neural Prophet"
   ]
  },
  {
   "cell_type": "code",
   "execution_count": 1,
   "metadata": {
    "colab": {
     "base_uri": "https://localhost:8080/"
    },
    "id": "_KXCuk9-Zsqv",
    "outputId": "051fdaed-faad-4c68-c7d0-f0d6d089be89"
   },
   "outputs": [
    {
     "name": "stderr",
     "output_type": "stream",
     "text": [
      "Importing plotly failed. Interactive plots will not work.\n"
     ]
    }
   ],
   "source": [
    "import os, datetime\n",
    "import numpy as np\n",
    "import pandas as pd\n",
    "from tqdm import tqdm\n",
    "\n",
    "import IPython\n",
    "import IPython.display\n",
    "import matplotlib.pyplot as plt\n",
    "\n",
    "\n",
    "from fbprophet import Prophet\n"
   ]
  },
  {
   "cell_type": "code",
   "execution_count": 2,
   "metadata": {},
   "outputs": [
    {
     "name": "stdout",
     "output_type": "stream",
     "text": [
      "Reading Complete!\n"
     ]
    }
   ],
   "source": [
    "### ------------ Data upload part ---------------- ###\n",
    "\n",
    "# 데이터가 위치한 폴더 경로\n",
    "dir_path = './data'\n",
    "\n",
    "# 파일명 설정\n",
    "test_file_name = 'test_x_df.csv'\n",
    "test_file_path = os.path.join(dir_path, test_file_name)\n",
    "\n",
    "#파일 업로드\n",
    "test_x = pd.read_csv(test_file_path)\n",
    "print(\"Reading Complete!\")\n"
   ]
  },
  {
   "cell_type": "code",
   "execution_count": 3,
   "metadata": {},
   "outputs": [],
   "source": [
    "# vwap과, open에서 vwap을 뺀 값인 diff를 계산합니다.\n",
    "def make_vwap_and_diff(df):\n",
    "\n",
    "    # 1) VAWP 계산\n",
    "\n",
    "    # 일반적인 VWAP 공식에서 volume을 그대로 사용하지만, 여러번의 시도를 통해 tb_base_av 와 volume을 더했을 때 가장 좋은 volume이 나온다고 판단하영 사용하였습니다.\n",
    "    df[\"volume_tb_base_av\"] = df[\"tb_base_av\"] + df[\"volume\"]\n",
    "\n",
    "    # open하나만을 사용하기 보다는 open(시가), high(고가), low(저가) 3개의 평균을 price로 사용하였습니다.\n",
    "    df['volume_price'] = ((df['open'] + df['high']) / 2) * df['volume_tb_base_av']\n",
    "\n",
    "    # price와 volume의 곱의 합을 구해줍니다.\n",
    "    df['volume_price_sum'] = df.groupby(['sample_id'])['volume_price'].apply(lambda x: x.cumsum())\n",
    "\n",
    "    # volume의 합을 구해줍니다.\n",
    "    df['volume_sum'] = df.groupby(['sample_id'])['volume_tb_base_av'].apply(lambda x: x.cumsum())\n",
    "\n",
    "    # 2 변수의 나눗셈을 통해 vwap을 계산해줍니다.\n",
    "    df['vwap'] = df['volume_price_sum'] / df['volume_sum']\n",
    "\n",
    "\n",
    "    # 2) diff 계산\n",
    "    # 매도수익이 open을 통해 이루어진다고 알려져있기 때문에 open에서 vwap을 뺀 값을 diff로 사용했습니다.\n",
    "    df[\"diff\"] = df[\"open\"] - df[\"vwap\"]\n",
    "\n",
    "    return df\n",
    "    "
   ]
  },
  {
   "cell_type": "code",
   "execution_count": 4,
   "metadata": {},
   "outputs": [],
   "source": [
    "# 데이터 프레임에서 sample_id 에 따른 open을 반환하는 함수입니다.\n",
    "def get_open(df,sample_id):\n",
    "    \n",
    "    return df[df[\"sample_id\"] == sample_id]['open'].values\n",
    "    \n",
    "# 데이터 프레임에서 sample_id 에 따른 VWAP을 반환하는 함수입니다.\n",
    "def get_vwap(df,sample_id):\n",
    "    \n",
    "    return df[df[\"sample_id\"] == sample_id]['vwap'].values\n",
    "    \n",
    "# 데이터 프레임에서 sample_id 에 따른 diff 반환하는 함수입니다.\n",
    "def get_diff(df,sample_id):\n",
    "    \n",
    "    return df[df[\"sample_id\"] == sample_id]['diff'].values\n",
    "\n",
    "# 데이터 프레임에서 sample_id 에 따른 rsi 반환하는 함수입니다.\n",
    "def get_rsi(df,sample_id):\n",
    "    \n",
    "    return df[df[\"sample_id\"] == sample_id]['rsi'].values\n",
    "\n",
    "# 데이터 프레임에서 sample_id 에 따른 col_name 값을 반환하는 함수입니다.\n",
    "def get_series(df,sample_id, col_name):\n",
    "    \n",
    "    return df[df[\"sample_id\"] == sample_id][col_name].values\n",
    "    "
   ]
  },
  {
   "cell_type": "code",
   "execution_count": 5,
   "metadata": {},
   "outputs": [],
   "source": [
    "# RSI를 만들어줍니다.\n",
    "# 상승분, 하락분의 평균은 일반적으로 14일을 기준으로 생성합니다.\n",
    "def make_rsi(df, period=25):\n",
    "\n",
    "    # 전일 대비 상승분을 계산해줍니다. - 상승분이 0보다 크면 상승분을 넣고, 0보다 작거나 같으면 0을 넣어줍니다.\n",
    "    df[\"U\"] = np.where(df.groupby([\"sample_id\"])[\"open\"].diff(1) > 0, df.groupby([\"sample_id\"])[\"open\"].diff(1), 0)\n",
    "\n",
    "    # 전일 대비 하락분을 계산해줍니다. - 하락분이 0보다 작으면 하락분 * -1을 넣고, 0보다 크거나 같으면 0을 넣어줍니다.\n",
    "    df[\"D\"] = np.where(df.groupby([\"sample_id\"])[\"open\"].diff(1) < 0, df.groupby([\"sample_id\"])[\"open\"].diff(1) *(-1), 0)\n",
    "\n",
    "\n",
    "    # 전일 대비 상승분의 평균을 계산해줍니다.\n",
    "    ud_df = pd.DataFrame()\n",
    "    ud_df[\"sample_id\"] = df[\"sample_id\"]\n",
    "    ud_df[\"U\"] = df[\"U\"]\n",
    "    ud_df[\"D\"] = df[\"D\"]\n",
    "\n",
    "    # 상승분의 14일 평균을 구해줍니다.\n",
    "    df[\"AU\"] = ud_df.groupby([\"sample_id\"])[\"U\"].rolling( window=period, min_periods=period ).mean().reset_index()[\"U\"]\n",
    "    # 하락분의 14일 평균을 구해줍니다.\n",
    "    df[\"AD\"] = ud_df.groupby([\"sample_id\"])[\"D\"].rolling( window=period, min_periods=period ).mean().reset_index()[\"D\"]\n",
    "\n",
    "\n",
    "    # AU / (AU + AD) 의 백분율을 RSI 로 계산해줍니다.\n",
    "    RSI = df[\"AU\"] / (df[\"AU\"] + df[\"AD\"]) * 100\n",
    "    \n",
    "    df[\"rsi\"] = RSI\n",
    "    \n",
    "    return df\n",
    "    "
   ]
  },
  {
   "cell_type": "code",
   "execution_count": 6,
   "metadata": {},
   "outputs": [],
   "source": [
    "# 1. train, test의 sample_id 목록을 저장합니다.\n",
    "TEST_SAMPLE_ID_LIST = test_x[\"sample_id\"].unique().tolist()"
   ]
  },
  {
   "cell_type": "code",
   "execution_count": 7,
   "metadata": {},
   "outputs": [],
   "source": [
    "# 2. VWAP, diff 를 만들어줍니다.\n",
    "test_x = make_vwap_and_diff(test_x)"
   ]
  },
  {
   "cell_type": "code",
   "execution_count": 8,
   "metadata": {},
   "outputs": [],
   "source": [
    "# 3. rsi 를 만들어줍니다.\n",
    "test_x = make_rsi(test_x, 25)"
   ]
  },
  {
   "cell_type": "code",
   "execution_count": 24,
   "metadata": {},
   "outputs": [],
   "source": [
    "# modeling programing\n",
    "def prophet_modeling(input_array):\n",
    "\n",
    "    x_df = prophet_preprocessor(input_array)\n",
    "\n",
    "    model = Prophet(\n",
    "                  changepoint_range = 1,\n",
    "                  changepoint_prior_scale=0.01,\n",
    "                  interval_width =0.9,\n",
    "                  seasonality_mode = 'multiplicative',\n",
    "                  yearly_seasonality = False, weekly_seasonality = False, daily_seasonality = False,\n",
    "                 )\n",
    "\n",
    "    model.add_seasonality(name='first_seasonality', period=1/24, fourier_order= 5) \n",
    "    model.add_seasonality(name='second_seasonality', period=1/12, fourier_order= 10)\n",
    "\n",
    "    metrics = model.fit(x_df)\n",
    "\n",
    "    future = model.make_future_dataframe(periods=120, freq=\"min\")\n",
    "    forecast = model.predict(future)\n",
    "\n",
    "#     # display clear\n",
    "#     IPython.display.clear_output()\n",
    "    \n",
    "    output = forecast.yhat.values[-120:]\n",
    "    return output\n",
    "\n",
    "\n",
    "def prophet_preprocessor(x_series):\n",
    "    ''' 함수 설명 : 빈 x_df 만들기'''\n",
    "    # start time initialization\n",
    "    start_time = '2021-01-01 00:00:00'\n",
    "    start_dt = datetime.datetime.strptime(start_time, '%Y-%m-%d %H:%M:%S')\n",
    "\n",
    "    # datafram 만들기\n",
    "    x_df = pd.DataFrame()\n",
    "    # 분당 시간 데이터 시리즈 입력\n",
    "    x_df['ds'] = [start_dt + datetime.timedelta(minutes = time_min) for time_min in np.arange(1, x_series.shape[0]+1).tolist()]\n",
    "    # 가격 데이터 시리즈 입력\n",
    "    x_df['y'] = x_series.tolist()\n",
    "\n",
    "    return x_df"
   ]
  },
  {
   "cell_type": "code",
   "execution_count": 31,
   "metadata": {},
   "outputs": [
    {
     "name": "stderr",
     "output_type": "stream",
     "text": [
      "  0%|                                                                                          | 0/760 [00:00<?, ?it/s]\n"
     ]
    }
   ],
   "source": [
    "for sample_id in tqdm(TEST_SAMPLE_ID_LIST):\n",
    "    \n",
    "    # 1. 데이터 로드\n",
    "    # 1) diff - 학습에 사용\n",
    "    diff_x = get_diff(test_x, sample_id)\n",
    "    open_x = get_open(test_x, sample_id)\n",
    "    \n",
    "    break"
   ]
  },
  {
   "cell_type": "code",
   "execution_count": 33,
   "metadata": {},
   "outputs": [
    {
     "data": {
      "text/plain": [
       "[<matplotlib.lines.Line2D at 0x25b109dcd48>]"
      ]
     },
     "execution_count": 33,
     "metadata": {},
     "output_type": "execute_result"
    },
    {
     "data": {
      "image/png": "[encoded data removed]",
      "text/plain": [
       "<Figure size 432x288 with 1 Axes>"
      ]
     },
     "metadata": {
      "needs_background": "light"
     },
     "output_type": "display_data"
    }
   ],
   "source": [
    "plt.plot(open_x)"
   ]
  },
  {
   "cell_type": "code",
   "execution_count": 32,
   "metadata": {},
   "outputs": [
    {
     "data": {
      "text/plain": [
       "[<matplotlib.lines.Line2D at 0x25b11624748>]"
      ]
     },
     "execution_count": 32,
     "metadata": {},
     "output_type": "execute_result"
    },
    {
     "data": {
      "image/png": "[encoded data removed]",
      "text/plain": [
       "<Figure size 432x288 with 1 Axes>"
      ]
     },
     "metadata": {
      "needs_background": "light"
     },
     "output_type": "display_data"
    }
   ],
   "source": [
    "plt.plot(diff_x)"
   ]
  },
  {
   "cell_type": "code",
   "execution_count": 13,
   "metadata": {},
   "outputs": [
    {
     "data": {
      "text/plain": [
       "(1380,)"
      ]
     },
     "execution_count": 13,
     "metadata": {},
     "output_type": "execute_result"
    }
   ],
   "source": [
    "diff_x.shape"
   ]
  },
  {
   "cell_type": "code",
   "execution_count": 27,
   "metadata": {},
   "outputs": [],
   "source": [
    "FORECAST = prophet_modeling(diff_x)"
   ]
  },
  {
   "cell_type": "code",
   "execution_count": 30,
   "metadata": {},
   "outputs": [
    {
     "data": {
      "text/plain": [
       "[<matplotlib.lines.Line2D at 0x25b115a70c8>]"
      ]
     },
     "execution_count": 30,
     "metadata": {},
     "output_type": "execute_result"
    },
    {
     "data": {
      "image/png": "[encoded data removed]",
      "text/plain": [
       "<Figure size 432x288 with 1 Axes>"
      ]
     },
     "metadata": {
      "needs_background": "light"
     },
     "output_type": "display_data"
    }
   ],
   "source": [
    "plt.plot(FORECAST)"
   ]
  },
  {
   "cell_type": "code",
   "execution_count": 34,
   "metadata": {},
   "outputs": [],
   "source": [
    "FORECAST2 = prophet_modeling(diff_x)"
   ]
  },
  {
   "cell_type": "code",
   "execution_count": 35,
   "metadata": {},
   "outputs": [
    {
     "data": {
      "text/plain": [
       "[<matplotlib.lines.Line2D at 0x25b114cf048>]"
      ]
     },
     "execution_count": 35,
     "metadata": {},
     "output_type": "execute_result"
    },
    {
     "data": {
      "image/png": "[encoded data removed]",
      "text/plain": [
       "<Figure size 432x288 with 1 Axes>"
      ]
     },
     "metadata": {
      "needs_background": "light"
     },
     "output_type": "display_data"
    }
   ],
   "source": [
    "plt.plot(FORECAST2)"
   ]
  },
  {
   "cell_type": "code",
   "execution_count": null,
   "metadata": {},
   "outputs": [
    {
     "name": "stderr",
     "output_type": "stream",
     "text": [
      "\r",
      " 99%|██████████████████████████████████████████████████▍| 752/760 [1:05:02<00:28,  3.53s/it]"
     ]
    }
   ],
   "source": [
    "result = [];\n",
    "\n",
    "for sample_id in tqdm(TEST_SAMPLE_ID_LIST):\n",
    "    \n",
    "    # 1. 데이터 로드\n",
    "    # 1) diff - 학습에 사용\n",
    "    diff_x = get_diff(test_x, sample_id)\n",
    "\n",
    "    # 2) vwap - 보조 지표로 사용\n",
    "    vwap_series = get_vwap(test_x, sample_id)\n",
    "\n",
    "    # 3) rsi - 보조 지표로 사용\n",
    "    rsi_series = get_rsi(test_x, sample_id)\n",
    "    \n",
    "    \n",
    "    # 2) MODEL PREDICTION\n",
    "\n",
    "    FORECAST = prophet_modeling(diff_x)\n",
    "\n",
    "    # 3. 데이처 처리\n",
    "    # 1) 최대 부분인 인덱스를 찾는데 해당 시점에 매도를 진행합니다.\n",
    "    sell_time = np.argmax(FORECAST)\n",
    "\n",
    "    # 2) 최대값을 찾습니다.\n",
    "    max_val = np.max(FORECAST)\n",
    "    \n",
    "    # 3) vwap의 마지막 값을 가져옵니다.\n",
    "    vwap_last_val = vwap_series[1379]\n",
    "    rsi_last_val = rsi_series[1379]\n",
    "    \n",
    "    \n",
    "    # 4. 투자 전략\n",
    "    buy_quantity = 0\n",
    "\n",
    "    # 1) 최대값이 0 보다 크면 가격이 vwap 보다 크다는 의미로, 투자합니다.\n",
    "    if  max_val > 0:\n",
    "        buy_quantity = 1\n",
    "\n",
    "\n",
    "    # 2) 만약 vwap 마지막 값이, 1보다 크면 가격이 1보다 작다는 의미로 하향세이기 때문에 투자하지 않습니다.\n",
    "    if vwap_last_val > 1 and sell_time < 50:\n",
    "        buy_quantity = 0\n",
    "\n",
    "    # 3) 만약 rsi의 값이 65 보다 크면, 초과매수 상태로 판단하여 투자하지 않습니다.\n",
    "    if rsi_last_val > 65 and sell_time < 50:\n",
    "        buy_quantity = 0\n",
    "        \n",
    "   # 5. 결과\n",
    "    result_list = [\n",
    "                   sample_id,\n",
    "                   buy_quantity,\n",
    "                   sell_time\n",
    "                  ]\n",
    "\n",
    "    result.append(result_list)\n"
   ]
  },
  {
   "cell_type": "code",
   "execution_count": null,
   "metadata": {},
   "outputs": [],
   "source": [
    "submit_columns = [\n",
    "                  \"sample_id\", \n",
    "                  \"buy_quantity\", \n",
    "                  \"sell_time\"\n",
    "                  ]\n",
    "\n",
    "\n",
    "submit = pd.DataFrame(data=result, columns=submit_columns)"
   ]
  },
  {
   "cell_type": "code",
   "execution_count": null,
   "metadata": {},
   "outputs": [],
   "source": [
    "submit.head(10)"
   ]
  },
  {
   "cell_type": "code",
   "execution_count": null,
   "metadata": {},
   "outputs": [],
   "source": [
    "submit[submit[\"buy_quantity\"] == 1].shape[0]"
   ]
  },
  {
   "cell_type": "code",
   "execution_count": null,
   "metadata": {},
   "outputs": [],
   "source": [
    "# 4. sell_time 50미만에서 구매하는 개수 확인\n",
    "cond1 = (submit[\"buy_quantity\"] == 1)\n",
    "cond2 = (submit[\"sell_time\"] < 50)\n",
    "\n",
    "submit[cond1 & cond2].shape[0]"
   ]
  },
  {
   "cell_type": "code",
   "execution_count": null,
   "metadata": {},
   "outputs": [],
   "source": [
    "FILE_NAME = \"/prophet.csv\"\n",
    "RESULT_PATH = \"./results\" + FILE_NAME\n",
    "\n",
    "submit.to_csv(RESULT_PATH, index=False)"
   ]
  },
  {
   "cell_type": "code",
   "execution_count": 4,
   "metadata": {},
   "outputs": [
    {
     "name": "stdout",
     "output_type": "stream",
     "text": [
      "\n",
      "    NOTE : 383의 샘플 내 0개의 샘플에서 에러가 발생했습니다.\n",
      "\n",
      "    Prediction Complete!'\n",
      "    \n"
     ]
    }
   ],
   "source": [
    "# 모델링 시작\n",
    "valid_pred_array = neural_prophet_modeling(FFD_train_x_array)\n",
    "save_file_name = 'FFD_neural_prophet_result2.csv'\n",
    "np.savetxt(save_file_name, valid_pred_array, delimiter = \",\")\n"
   ]
  }
 ],
 "metadata": {
  "colab": {
   "name": "Prophet pilot.ipynb",
   "provenance": []
  },
  "kernelspec": {
   "display_name": "Python 3",
   "language": "python",
   "name": "python3"
  },
  "language_info": {
   "codemirror_mode": {
    "name": "ipython",
    "version": 3
   },
   "file_extension": ".py",
   "mimetype": "text/x-python",
   "name": "python",
   "nbconvert_exporter": "python",
   "pygments_lexer": "ipython3",
   "version": "3.7.10"
  }
 },
 "nbformat": 4,
 "nbformat_minor": 1
}
